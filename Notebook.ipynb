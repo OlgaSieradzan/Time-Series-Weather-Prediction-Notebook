{
 "cells": [
  {
   "cell_type": "markdown",
   "id": "8b4ab6af",
   "metadata": {},
   "source": [
    "# Weather Data Analysis\n",
    "*Author: Olga Sieradzan*\n",
    "\n",
    "This notebook focuses on analying and forcating weather patterns using the Weather data set from kaggle. \n",
    "\n",
    "***\n",
    "\n",
    "The notebook is organized as follows:\n",
    "\n",
    "**Part 1**: Data Cleaning\n",
    "\n",
    "**Part 2**: Exploratory data analysys\n",
    "\n",
    "**Part 3**: Weather forecasting based on historical data\n",
    "\n",
    "***\n"
   ]
  },
  {
   "cell_type": "markdown",
   "id": "f744f68d",
   "metadata": {},
   "source": [
    "## Data Cleaning\n",
    "\n",
    "This part consist of choing usefull columns, converting data types , handling missing values or Nan's, \n",
    "\n",
    "***"
   ]
  },
  {
   "cell_type": "markdown",
   "id": "7ef42152",
   "metadata": {},
   "source": [
    "### Libraries and option setting"
   ]
  },
  {
   "cell_type": "code",
   "execution_count": 1,
   "id": "c4ce2ebc",
   "metadata": {},
   "outputs": [],
   "source": [
    "import pandas as pd\n",
    "import numpy as np\n",
    "import sys\n",
    "import re\n",
    "\n",
    "# Setting up max display in notebook \n",
    "pd.set_option('display.max_columns', 50)\n",
    "pd.set_option('display.max_rows', 50)"
   ]
  },
  {
   "cell_type": "markdown",
   "id": "8993edab",
   "metadata": {},
   "source": [
    "***"
   ]
  },
  {
   "cell_type": "markdown",
   "id": "da0a1ca8",
   "metadata": {},
   "source": [
    "## Raw data \n",
    "\n",
    "Dataset consist of **14 colums** describing weather at the small town in Poland, collected by the meterodical station. Data was collected since 1980 till 2024 hourly, maiking the dataset **389497 rows** big\n",
    "\n",
    "The variables in dataset are: \n",
    "\n",
    "* Temperature\n",
    "* Relative humidity\n",
    "* Dew point\n",
    "* Precipitation (mm)\n",
    "* Rain (mm)\n",
    "* Snowfall (mm)\n",
    "* Pressure msl (hPa)\n",
    "* Surface_pressure (hPa)\n",
    "* Cloud cover (%)\n",
    "* Cloud cover low (%)\n",
    "* Cloud cover mid (%)\n",
    "* Cloud cover high (%)\n",
    "* Vapour pressure deficit (kPa)\n",
    "* Wind speed (km/h)\n",
    "\n",
    "\n",
    "\n"
   ]
  },
  {
   "cell_type": "code",
   "execution_count": 3,
   "id": "cffff837",
   "metadata": {},
   "outputs": [
    {
     "data": {
      "application/vnd.microsoft.datawrangler.viewer.v0+json": {
       "columns": [
        {
         "name": "index",
         "rawType": "int64",
         "type": "integer"
        },
        {
         "name": "time",
         "rawType": "datetime64[ns]",
         "type": "datetime"
        },
        {
         "name": "temperature",
         "rawType": "float64",
         "type": "float"
        },
        {
         "name": "relative_humidity",
         "rawType": "int64",
         "type": "integer"
        },
        {
         "name": "dew_point",
         "rawType": "float64",
         "type": "float"
        },
        {
         "name": "precipitation (mm)",
         "rawType": "float64",
         "type": "float"
        },
        {
         "name": "rain (mm)",
         "rawType": "float64",
         "type": "float"
        },
        {
         "name": "snowfall (cm)",
         "rawType": "int64",
         "type": "integer"
        },
        {
         "name": "pressure_msl (hPa)",
         "rawType": "float64",
         "type": "float"
        },
        {
         "name": "surface_pressure (hPa)",
         "rawType": "float64",
         "type": "float"
        },
        {
         "name": "cloud_cover (%)",
         "rawType": "int64",
         "type": "integer"
        },
        {
         "name": "cloud_cover_low (%)",
         "rawType": "int64",
         "type": "integer"
        },
        {
         "name": "cloud_cover_mid (%)",
         "rawType": "int64",
         "type": "integer"
        },
        {
         "name": "cloud_cover_high (%)",
         "rawType": "int64",
         "type": "integer"
        },
        {
         "name": "vapour_pressure_deficit (kPa)",
         "rawType": "float64",
         "type": "float"
        },
        {
         "name": "wind_speed_10m (km/h)",
         "rawType": "float64",
         "type": "float"
        }
       ],
       "ref": "c4ec6bb2-9b5b-4327-9c94-aea6ac1c213b",
       "rows": [
        [
         "0",
         "1980-01-01 00:00:00",
         "12.7",
         "83",
         "10.0",
         "0.0",
         "0.0",
         "0",
         "1012.8",
         "945.1",
         "1",
         "1",
         "0",
         "0",
         "0.25",
         "7.5"
        ],
        [
         "1",
         "1980-01-01 01:00:00",
         "12.9",
         "82",
         "9.9",
         "0.0",
         "0.0",
         "0",
         "1012.2",
         "944.5",
         "4",
         "4",
         "0",
         "0",
         "0.26",
         "7.9"
        ],
        [
         "2",
         "1980-01-01 02:00:00",
         "13.2",
         "82",
         "10.2",
         "0.0",
         "0.0",
         "0",
         "1012.3",
         "944.7",
         "13",
         "14",
         "0",
         "0",
         "0.27",
         "7.5"
        ],
        [
         "3",
         "1980-01-01 03:00:00",
         "15.9",
         "78",
         "12.0",
         "0.0",
         "0.0",
         "0",
         "1013.5",
         "946.4",
         "23",
         "26",
         "0",
         "0",
         "0.4",
         "6.6"
        ],
        [
         "4",
         "1980-01-01 04:00:00",
         "19.4",
         "67",
         "13.1",
         "0.0",
         "0.0",
         "0",
         "1014.6",
         "948.2",
         "9",
         "10",
         "0",
         "0",
         "0.75",
         "8.7"
        ]
       ],
       "shape": {
        "columns": 15,
        "rows": 5
       }
      },
      "text/html": [
       "<div>\n",
       "<style scoped>\n",
       "    .dataframe tbody tr th:only-of-type {\n",
       "        vertical-align: middle;\n",
       "    }\n",
       "\n",
       "    .dataframe tbody tr th {\n",
       "        vertical-align: top;\n",
       "    }\n",
       "\n",
       "    .dataframe thead th {\n",
       "        text-align: right;\n",
       "    }\n",
       "</style>\n",
       "<table border=\"1\" class=\"dataframe\">\n",
       "  <thead>\n",
       "    <tr style=\"text-align: right;\">\n",
       "      <th></th>\n",
       "      <th>time</th>\n",
       "      <th>temperature</th>\n",
       "      <th>relative_humidity</th>\n",
       "      <th>dew_point</th>\n",
       "      <th>precipitation (mm)</th>\n",
       "      <th>rain (mm)</th>\n",
       "      <th>snowfall (cm)</th>\n",
       "      <th>pressure_msl (hPa)</th>\n",
       "      <th>surface_pressure (hPa)</th>\n",
       "      <th>cloud_cover (%)</th>\n",
       "      <th>cloud_cover_low (%)</th>\n",
       "      <th>cloud_cover_mid (%)</th>\n",
       "      <th>cloud_cover_high (%)</th>\n",
       "      <th>vapour_pressure_deficit (kPa)</th>\n",
       "      <th>wind_speed_10m (km/h)</th>\n",
       "    </tr>\n",
       "  </thead>\n",
       "  <tbody>\n",
       "    <tr>\n",
       "      <th>0</th>\n",
       "      <td>1980-01-01 00:00:00</td>\n",
       "      <td>12.7</td>\n",
       "      <td>83</td>\n",
       "      <td>10.0</td>\n",
       "      <td>0.0</td>\n",
       "      <td>0.0</td>\n",
       "      <td>0</td>\n",
       "      <td>1012.8</td>\n",
       "      <td>945.1</td>\n",
       "      <td>1</td>\n",
       "      <td>1</td>\n",
       "      <td>0</td>\n",
       "      <td>0</td>\n",
       "      <td>0.25</td>\n",
       "      <td>7.5</td>\n",
       "    </tr>\n",
       "    <tr>\n",
       "      <th>1</th>\n",
       "      <td>1980-01-01 01:00:00</td>\n",
       "      <td>12.9</td>\n",
       "      <td>82</td>\n",
       "      <td>9.9</td>\n",
       "      <td>0.0</td>\n",
       "      <td>0.0</td>\n",
       "      <td>0</td>\n",
       "      <td>1012.2</td>\n",
       "      <td>944.5</td>\n",
       "      <td>4</td>\n",
       "      <td>4</td>\n",
       "      <td>0</td>\n",
       "      <td>0</td>\n",
       "      <td>0.26</td>\n",
       "      <td>7.9</td>\n",
       "    </tr>\n",
       "    <tr>\n",
       "      <th>2</th>\n",
       "      <td>1980-01-01 02:00:00</td>\n",
       "      <td>13.2</td>\n",
       "      <td>82</td>\n",
       "      <td>10.2</td>\n",
       "      <td>0.0</td>\n",
       "      <td>0.0</td>\n",
       "      <td>0</td>\n",
       "      <td>1012.3</td>\n",
       "      <td>944.7</td>\n",
       "      <td>13</td>\n",
       "      <td>14</td>\n",
       "      <td>0</td>\n",
       "      <td>0</td>\n",
       "      <td>0.27</td>\n",
       "      <td>7.5</td>\n",
       "    </tr>\n",
       "    <tr>\n",
       "      <th>3</th>\n",
       "      <td>1980-01-01 03:00:00</td>\n",
       "      <td>15.9</td>\n",
       "      <td>78</td>\n",
       "      <td>12.0</td>\n",
       "      <td>0.0</td>\n",
       "      <td>0.0</td>\n",
       "      <td>0</td>\n",
       "      <td>1013.5</td>\n",
       "      <td>946.4</td>\n",
       "      <td>23</td>\n",
       "      <td>26</td>\n",
       "      <td>0</td>\n",
       "      <td>0</td>\n",
       "      <td>0.40</td>\n",
       "      <td>6.6</td>\n",
       "    </tr>\n",
       "    <tr>\n",
       "      <th>4</th>\n",
       "      <td>1980-01-01 04:00:00</td>\n",
       "      <td>19.4</td>\n",
       "      <td>67</td>\n",
       "      <td>13.1</td>\n",
       "      <td>0.0</td>\n",
       "      <td>0.0</td>\n",
       "      <td>0</td>\n",
       "      <td>1014.6</td>\n",
       "      <td>948.2</td>\n",
       "      <td>9</td>\n",
       "      <td>10</td>\n",
       "      <td>0</td>\n",
       "      <td>0</td>\n",
       "      <td>0.75</td>\n",
       "      <td>8.7</td>\n",
       "    </tr>\n",
       "  </tbody>\n",
       "</table>\n",
       "</div>"
      ],
      "text/plain": [
       "                 time  temperature  relative_humidity  dew_point  \\\n",
       "0 1980-01-01 00:00:00         12.7                 83       10.0   \n",
       "1 1980-01-01 01:00:00         12.9                 82        9.9   \n",
       "2 1980-01-01 02:00:00         13.2                 82       10.2   \n",
       "3 1980-01-01 03:00:00         15.9                 78       12.0   \n",
       "4 1980-01-01 04:00:00         19.4                 67       13.1   \n",
       "\n",
       "   precipitation (mm)  rain (mm)  snowfall (cm)  pressure_msl (hPa)  \\\n",
       "0                 0.0        0.0              0              1012.8   \n",
       "1                 0.0        0.0              0              1012.2   \n",
       "2                 0.0        0.0              0              1012.3   \n",
       "3                 0.0        0.0              0              1013.5   \n",
       "4                 0.0        0.0              0              1014.6   \n",
       "\n",
       "   surface_pressure (hPa)  cloud_cover (%)  cloud_cover_low (%)  \\\n",
       "0                   945.1                1                    1   \n",
       "1                   944.5                4                    4   \n",
       "2                   944.7               13                   14   \n",
       "3                   946.4               23                   26   \n",
       "4                   948.2                9                   10   \n",
       "\n",
       "   cloud_cover_mid (%)  cloud_cover_high (%)  vapour_pressure_deficit (kPa)  \\\n",
       "0                    0                     0                           0.25   \n",
       "1                    0                     0                           0.26   \n",
       "2                    0                     0                           0.27   \n",
       "3                    0                     0                           0.40   \n",
       "4                    0                     0                           0.75   \n",
       "\n",
       "   wind_speed_10m (km/h)  \n",
       "0                    7.5  \n",
       "1                    7.9  \n",
       "2                    7.5  \n",
       "3                    6.6  \n",
       "4                    8.7  "
      ]
     },
     "execution_count": 3,
     "metadata": {},
     "output_type": "execute_result"
    }
   ],
   "source": [
    "raw_data = pd.read_csv(\"C:/Users/olgas/OneDrive/Documents/GitHub/Time-Series-Weather-Prediction-Notebook/Data/Weather_Data_1980_2024(hourly).csv\", parse_dates = ['time'])\n",
    "raw_data.head()"
   ]
  },
  {
   "cell_type": "code",
   "execution_count": 4,
   "id": "0f83ca7a",
   "metadata": {},
   "outputs": [
    {
     "data": {
      "application/vnd.microsoft.datawrangler.viewer.v0+json": {
       "columns": [
        {
         "name": "index",
         "rawType": "object",
         "type": "string"
        },
        {
         "name": "0",
         "rawType": "object",
         "type": "unknown"
        }
       ],
       "ref": "0b995832-7611-464f-a229-0a7f1e36cd17",
       "rows": [
        [
         "time",
         "datetime64[ns]"
        ],
        [
         "temperature",
         "float64"
        ],
        [
         "relative_humidity",
         "int64"
        ],
        [
         "dew_point",
         "float64"
        ],
        [
         "precipitation (mm)",
         "float64"
        ],
        [
         "rain (mm)",
         "float64"
        ],
        [
         "snowfall (cm)",
         "int64"
        ],
        [
         "pressure_msl (hPa)",
         "float64"
        ],
        [
         "surface_pressure (hPa)",
         "float64"
        ],
        [
         "cloud_cover (%)",
         "int64"
        ],
        [
         "cloud_cover_low (%)",
         "int64"
        ],
        [
         "cloud_cover_mid (%)",
         "int64"
        ],
        [
         "cloud_cover_high (%)",
         "int64"
        ],
        [
         "vapour_pressure_deficit (kPa)",
         "float64"
        ],
        [
         "wind_speed_10m (km/h)",
         "float64"
        ]
       ],
       "shape": {
        "columns": 1,
        "rows": 15
       }
      },
      "text/plain": [
       "time                             datetime64[ns]\n",
       "temperature                             float64\n",
       "relative_humidity                         int64\n",
       "dew_point                               float64\n",
       "precipitation (mm)                      float64\n",
       "rain (mm)                               float64\n",
       "snowfall (cm)                             int64\n",
       "pressure_msl (hPa)                      float64\n",
       "surface_pressure (hPa)                  float64\n",
       "cloud_cover (%)                           int64\n",
       "cloud_cover_low (%)                       int64\n",
       "cloud_cover_mid (%)                       int64\n",
       "cloud_cover_high (%)                      int64\n",
       "vapour_pressure_deficit (kPa)           float64\n",
       "wind_speed_10m (km/h)                   float64\n",
       "dtype: object"
      ]
     },
     "execution_count": 4,
     "metadata": {},
     "output_type": "execute_result"
    }
   ],
   "source": [
    "raw_data.dtypes"
   ]
  },
  {
   "cell_type": "markdown",
   "id": "f4d30777",
   "metadata": {},
   "source": [
    "As the table above show, there will be no problem with data types since all of the data is either intiger or float. "
   ]
  },
  {
   "cell_type": "code",
   "execution_count": null,
   "id": "ca9b775b",
   "metadata": {},
   "outputs": [],
   "source": []
  }
 ],
 "metadata": {
  "kernelspec": {
   "display_name": "base",
   "language": "python",
   "name": "python3"
  },
  "language_info": {
   "codemirror_mode": {
    "name": "ipython",
    "version": 3
   },
   "file_extension": ".py",
   "mimetype": "text/x-python",
   "name": "python",
   "nbconvert_exporter": "python",
   "pygments_lexer": "ipython3",
   "version": "3.12.4"
  }
 },
 "nbformat": 4,
 "nbformat_minor": 5
}
